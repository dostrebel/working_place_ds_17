{
 "cells": [
  {
   "cell_type": "markdown",
   "metadata": {},
   "source": [
    "# Python II"
   ]
  },
  {
   "cell_type": "markdown",
   "metadata": {},
   "source": [
    "1. Wiederholung: die wichtigsten Funktion\n",
    "2. Viel mächtigere Funktion: Modules und Libraries\n",
    "3. Schauen wir uns diese simplen Funktionen genauer an\n",
    "4. Bauen wir die eigenen Funktionen\n",
    "5. Struktur und Troubleshooting"
   ]
  },
  {
   "cell_type": "markdown",
   "metadata": {},
   "source": [
    "### 1 Wichtigste Funktionen\n",
    "Eine Übersicht der 64 wichtigsten simplen Python-Funktionen sind [hier](https://www.programiz.com/python-programming/methods/built-in) gelistet."
   ]
  },
  {
   "cell_type": "code",
   "execution_count": 2,
   "metadata": {
    "collapsed": true
   },
   "outputs": [],
   "source": [
    "lst = [11,2,34,4,5,5111]"
   ]
  },
  {
   "cell_type": "code",
   "execution_count": 3,
   "metadata": {},
   "outputs": [
    {
     "data": {
      "text/plain": [
       "6"
      ]
     },
     "execution_count": 3,
     "metadata": {},
     "output_type": "execute_result"
    }
   ],
   "source": [
    "len([11,2,'sort',4,5,5111])#zählt die Elemente einer Liste"
   ]
  },
  {
   "cell_type": "code",
   "execution_count": 4,
   "metadata": {},
   "outputs": [
    {
     "data": {
      "text/plain": [
       "[2, 4, 5, 11, 34, 5111]"
      ]
     },
     "execution_count": 4,
     "metadata": {},
     "output_type": "execute_result"
    }
   ],
   "source": [
    "sorted(lst)"
   ]
  },
  {
   "cell_type": "code",
   "execution_count": 5,
   "metadata": {
    "collapsed": true
   },
   "outputs": [],
   "source": [
    "lst.sort()"
   ]
  },
  {
   "cell_type": "code",
   "execution_count": 6,
   "metadata": {},
   "outputs": [
    {
     "data": {
      "text/plain": [
       "2"
      ]
     },
     "execution_count": 6,
     "metadata": {},
     "output_type": "execute_result"
    }
   ],
   "source": [
    "min(lst)"
   ]
  },
  {
   "cell_type": "code",
   "execution_count": 7,
   "metadata": {},
   "outputs": [
    {
     "data": {
      "text/plain": [
       "5111"
      ]
     },
     "execution_count": 7,
     "metadata": {},
     "output_type": "execute_result"
    }
   ],
   "source": [
    "max(lst)"
   ]
  },
  {
   "cell_type": "code",
   "execution_count": 8,
   "metadata": {},
   "outputs": [
    {
     "data": {
      "text/plain": [
       "'1212'"
      ]
     },
     "execution_count": 8,
     "metadata": {},
     "output_type": "execute_result"
    }
   ],
   "source": [
    "str(1212)"
   ]
  },
  {
   "cell_type": "code",
   "execution_count": 9,
   "metadata": {},
   "outputs": [
    {
     "data": {
      "text/plain": [
       "5"
      ]
     },
     "execution_count": 9,
     "metadata": {},
     "output_type": "execute_result"
    }
   ],
   "source": [
    "sum([1,2,2])"
   ]
  },
  {
   "cell_type": "code",
   "execution_count": 10,
   "metadata": {
    "collapsed": true
   },
   "outputs": [],
   "source": [
    "lst.remove(4)"
   ]
  },
  {
   "cell_type": "code",
   "execution_count": 11,
   "metadata": {
    "collapsed": true
   },
   "outputs": [],
   "source": [
    "lst.append(4)"
   ]
  },
  {
   "cell_type": "code",
   "execution_count": 12,
   "metadata": {
    "collapsed": true
   },
   "outputs": [],
   "source": [
    "string = 'hello, wie geht Dir?'"
   ]
  },
  {
   "cell_type": "code",
   "execution_count": 13,
   "metadata": {},
   "outputs": [
    {
     "data": {
      "text/plain": [
       "['hello', ' wie geht Dir?']"
      ]
     },
     "execution_count": 13,
     "metadata": {},
     "output_type": "execute_result"
    }
   ],
   "source": [
    "string.split(',')"
   ]
  },
  {
   "cell_type": "markdown",
   "metadata": {},
   "source": [
    "### 2 Viel mächtigere Funktion: Modules und Libraries"
   ]
  },
  {
   "cell_type": "markdown",
   "metadata": {},
   "source": [
    "#### Modules & Libraries"
   ]
  },
  {
   "cell_type": "code",
   "execution_count": 19,
   "metadata": {},
   "outputs": [
    {
     "ename": "ModuleNotFoundError",
     "evalue": "No module named 'pandas'",
     "output_type": "error",
     "traceback": [
      "\u001b[0;31m---------------------------------------------------------------------------\u001b[0m",
      "\u001b[0;31mModuleNotFoundError\u001b[0m                       Traceback (most recent call last)",
      "\u001b[0;32m<ipython-input-19-abbd7b42d4a4>\u001b[0m in \u001b[0;36m<module>\u001b[0;34m()\u001b[0m\n\u001b[1;32m      2\u001b[0m \u001b[0;32mimport\u001b[0m \u001b[0mrequests\u001b[0m\u001b[0;34m\u001b[0m\u001b[0m\n\u001b[1;32m      3\u001b[0m \u001b[0;32mimport\u001b[0m \u001b[0mglob\u001b[0m\u001b[0;34m\u001b[0m\u001b[0m\n\u001b[0;32m----> 4\u001b[0;31m \u001b[0;32mimport\u001b[0m \u001b[0mpandas\u001b[0m\u001b[0;34m\u001b[0m\u001b[0m\n\u001b[0m\u001b[1;32m      5\u001b[0m \u001b[0;32mimport\u001b[0m \u001b[0mBeautifulSoup\u001b[0m\u001b[0;34m\u001b[0m\u001b[0m\n\u001b[1;32m      6\u001b[0m \u001b[0;32mimport\u001b[0m \u001b[0mre\u001b[0m\u001b[0;34m\u001b[0m\u001b[0m\n",
      "\u001b[0;31mModuleNotFoundError\u001b[0m: No module named 'pandas'"
     ]
    }
   ],
   "source": [
    "import urllib \n",
    "import requests\n",
    "import glob\n",
    "import pandas\n",
    "import BeautifulSoup\n",
    "import re\n",
    "#etc. etc."
   ]
  },
  {
   "cell_type": "code",
   "execution_count": null,
   "metadata": {
    "collapsed": true
   },
   "outputs": [],
   "source": [
    "!pip install requests"
   ]
  },
  {
   "cell_type": "code",
   "execution_count": null,
   "metadata": {
    "collapsed": true
   },
   "outputs": [],
   "source": [
    "!pip install glob"
   ]
  },
  {
   "cell_type": "markdown",
   "metadata": {},
   "source": [
    "### 3 Aber wie sind Funktion, Modules und Libraries aufgebaut? "
   ]
  },
  {
   "cell_type": "code",
   "execution_count": null,
   "metadata": {
    "collapsed": true
   },
   "outputs": [],
   "source": [
    "import os"
   ]
  },
  {
   "cell_type": "code",
   "execution_count": null,
   "metadata": {
    "collapsed": true
   },
   "outputs": [],
   "source": [
    "#Funktioniert leider nicht mit allen Built in Functionen\n",
    "os.path.split??"
   ]
  },
  {
   "cell_type": "code",
   "execution_count": null,
   "metadata": {
    "collapsed": true
   },
   "outputs": [],
   "source": [
    "#Beispiel Sort\n",
    "def sort(list):\n",
    "    for index in range(1,len(list)):\n",
    "        value = list[index]\n",
    "        i = index-1\n",
    "        while i>=0:\n",
    "            if value < list[i]:\n",
    "                list[i+1] = list[i]\n",
    "                list[i] = value\n",
    "                i -= 1\n",
    "            else:\n",
    "                break\n",
    "    return list"
   ]
  },
  {
   "cell_type": "code",
   "execution_count": null,
   "metadata": {
    "collapsed": true
   },
   "outputs": [],
   "source": [
    "#Ganz komplexe. Wenn Du nicht mit dem Modul urllib, bzw. urlretrieve \n",
    "#arbeiten könntest, müsstest Du jetzt all das eintippen.\n",
    "\n",
    "def urlretrieve(url, filename=None, reporthook=None, data=None):\n",
    "    url_type, path = splittype(url)\n",
    "\n",
    "    with contextlib.closing(urlopen(url, data)) as fp:\n",
    "        headers = fp.info()\n",
    "\n",
    "        # Just return the local path and the \"headers\" for file://\n",
    "        # URLs. No sense in performing a copy unless requested.\n",
    "        if url_type == \"file\" and not filename:\n",
    "            return os.path.normpath(path), headers\n",
    "\n",
    "        # Handle temporary file setup.\n",
    "        if filename:\n",
    "            tfp = open(filename, 'wb')\n",
    "        else:\n",
    "            tfp = tempfile.NamedTemporaryFile(delete=False)\n",
    "            filename = tfp.name\n",
    "            _url_tempfiles.append(filename)\n",
    "\n",
    "        with tfp:\n",
    "            result = filename, headers\n",
    "            bs = 1024*8\n",
    "            size = -1\n",
    "            read = 0\n",
    "            blocknum = 0\n",
    "            if \"content-length\" in headers:\n",
    "                size = int(headers[\"Content-Length\"])\n",
    "\n",
    "            if reporthook:\n",
    "                reporthook(blocknum, bs, size)\n",
    "\n",
    "            while True:\n",
    "                block = fp.read(bs)\n",
    "                if not block:\n",
    "                    break\n",
    "                read += len(block)\n",
    "                tfp.write(block)\n",
    "                blocknum += 1\n",
    "                if reporthook:\n",
    "                    reporthook(blocknum, bs, size)\n",
    "\n",
    "    if size >= 0 and read < size:\n",
    "        raise ContentTooShortError(\n",
    "            \"retrieval incomplete: got only %i out of %i bytes\"\n",
    "            % (read, size), result)\n",
    "\n",
    "    return result"
   ]
  },
  {
   "cell_type": "markdown",
   "metadata": {},
   "source": [
    "### 4 Bauen wir die eigenen Funktion"
   ]
  },
  {
   "cell_type": "markdown",
   "metadata": {},
   "source": [
    "Bauen wir ganze Sätze, aus Listen von Strings"
   ]
  },
  {
   "cell_type": "code",
   "execution_count": 3,
   "metadata": {
    "collapsed": true
   },
   "outputs": [],
   "source": [
    "lst = ['ich', 'habe', 'ganz', 'kalt']"
   ]
  },
  {
   "cell_type": "code",
   "execution_count": 4,
   "metadata": {
    "collapsed": true
   },
   "outputs": [],
   "source": [
    "def join(mylist):# ich definiere eine Funktion mit Name join(Variable)\n",
    "    long_str = ''# ich definiere einen leeren String\n",
    "    for elem in mylist:\n",
    "        long_str = long_str + ' ' + elem\n",
    "    return long_str.strip()#strip schneidet leerstellen hinten und vorne ab. return generiert erst den output"
   ]
  },
  {
   "cell_type": "markdown",
   "metadata": {},
   "source": [
    "Und zum aufrufen packe ich meine List in Klammen ()"
   ]
  },
  {
   "cell_type": "code",
   "execution_count": 5,
   "metadata": {},
   "outputs": [
    {
     "data": {
      "text/plain": [
       "'ich habe ganz kalt'"
      ]
     },
     "execution_count": 5,
     "metadata": {},
     "output_type": "execute_result"
    }
   ],
   "source": [
    "join(lst)"
   ]
  },
  {
   "cell_type": "markdown",
   "metadata": {},
   "source": [
    "Bauen wir eine simple Suche"
   ]
  },
  {
   "cell_type": "code",
   "execution_count": 21,
   "metadata": {
    "collapsed": true
   },
   "outputs": [],
   "source": [
    "satz = \"Die Unabhängigkeit der Notenbanken von der Politik gilt bisher als anerkannter Grundpfeiler der modernen Wirtschafts- und Geldpolitik in fortgeschrittenen Volkswirtschaften. Zu gross wäre sonst das Risiko, dass gewählte Politiker die Notenpresse anwerfen, wenn es ihren persönlichen Zielen gerade gelegen kommt, und dass dadurch die Stabilität des Geldes und das Vertrauen in das Zahlungsmittel untergraben wird.\""
   ]
  },
  {
   "cell_type": "code",
   "execution_count": 22,
   "metadata": {
    "collapsed": true
   },
   "outputs": [],
   "source": [
    "def find(string):\n",
    "    elem = input('Bitte geben Sie den Suchbegriff ein: ')\n",
    "    if elem in string:\n",
    "        return 'Treffer'\n",
    "    else:\n",
    "        return 'Kein Treffer'"
   ]
  },
  {
   "cell_type": "code",
   "execution_count": 23,
   "metadata": {},
   "outputs": [
    {
     "name": "stdout",
     "output_type": "stream",
     "text": [
      "Bitte geben Sie den Suchbegriff ein: Politik\n"
     ]
    },
    {
     "data": {
      "text/plain": [
       "'Treffer'"
      ]
     },
     "execution_count": 23,
     "metadata": {},
     "output_type": "execute_result"
    }
   ],
   "source": [
    "find(satz)"
   ]
  },
  {
   "cell_type": "markdown",
   "metadata": {
    "collapsed": true
   },
   "source": [
    "### 5 Struktur und Troubleshooting"
   ]
  },
  {
   "cell_type": "markdown",
   "metadata": {
    "collapsed": true
   },
   "source": [
    "- Zuerst die Imports\n",
    "- Dann die eigenen Funktionen\n",
    "- Nun der eigentliche Code"
   ]
  },
  {
   "cell_type": "code",
   "execution_count": null,
   "metadata": {
    "collapsed": true
   },
   "outputs": [],
   "source": [
    "print('Immer im Code verwenden, um zu wissen wo der Fehler nun ganz genau passiert.')"
   ]
  },
  {
   "cell_type": "code",
   "execution_count": null,
   "metadata": {
    "collapsed": true
   },
   "outputs": [],
   "source": [
    "#Beispiel Sort\n",
    "def sort(list):\n",
    "    for index in range(1,len(list)):\n",
    "        value = list[index]\n",
    "        print(value)\n",
    "        i = index-1\n",
    "        print(i)\n",
    "        while i>=0:\n",
    "            if value < list[i]:\n",
    "                list[i+1] = list[i]\n",
    "                list[i] = value\n",
    "                i -= 1\n",
    "            else:\n",
    "                break\n",
    "    return list"
   ]
  },
  {
   "cell_type": "code",
   "execution_count": null,
   "metadata": {
    "collapsed": true
   },
   "outputs": [],
   "source": [
    "sort(lst)"
   ]
  },
  {
   "cell_type": "code",
   "execution_count": null,
   "metadata": {
    "collapsed": true
   },
   "outputs": [],
   "source": [
    "lst"
   ]
  },
  {
   "cell_type": "code",
   "execution_count": null,
   "metadata": {
    "collapsed": true
   },
   "outputs": [],
   "source": []
  }
 ],
 "metadata": {
  "kernelspec": {
   "display_name": "Python 3",
   "language": "python",
   "name": "python3"
  },
  "language_info": {
   "codemirror_mode": {
    "name": "ipython",
    "version": 3
   },
   "file_extension": ".py",
   "mimetype": "text/x-python",
   "name": "python",
   "nbconvert_exporter": "python",
   "pygments_lexer": "ipython3",
   "version": "3.6.2"
  }
 },
 "nbformat": 4,
 "nbformat_minor": 2
}
